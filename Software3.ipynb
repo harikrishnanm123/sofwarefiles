{
  "nbformat": 4,
  "nbformat_minor": 0,
  "metadata": {
    "colab": {
      "provenance": [],
      "authorship_tag": "ABX9TyNy1+dbGNChTiB5gOu9Lu2n",
      "include_colab_link": true
    },
    "kernelspec": {
      "name": "python3",
      "display_name": "Python 3"
    },
    "language_info": {
      "name": "python"
    }
  },
  "cells": [
    {
      "cell_type": "markdown",
      "metadata": {
        "id": "view-in-github",
        "colab_type": "text"
      },
      "source": [
        "<a href=\"https://colab.research.google.com/github/harikrishnanm123/hari/blob/main/Software3.ipynb\" target=\"_parent\"><img src=\"https://colab.research.google.com/assets/colab-badge.svg\" alt=\"Open In Colab\"/></a>"
      ]
    },
    {
      "cell_type": "markdown",
      "source": [],
      "metadata": {
        "id": "wj-MKbQUQuD3"
      }
    },
    {
      "cell_type": "code",
      "source": [
        "import json\n",
        "import os\n",
        "\n",
        "CONTACTS_FILE = 'contacts.json'\n",
        "\n",
        "def load_contacts():\n",
        "    if os.path.exists(CONTACTS_FILE):\n",
        "        with open(CONTACTS_FILE, 'r') as file:\n",
        "            return json.load(file)\n",
        "    return []\n",
        "\n",
        "def save_contacts(contacts):\n",
        "    with open(CONTACTS_FILE, 'w') as file:\n",
        "        json.dump(contacts, file, indent=4)\n",
        "\n",
        "def add_contact(contacts):\n",
        "    name = input(\"Enter name: \")\n",
        "    phone = input(\"Enter phone number: \")\n",
        "    email = input(\"Enter email address: \")\n",
        "\n",
        "    contacts.append({'name': name, 'phone': phone, 'email': email})\n",
        "    save_contacts(contacts)\n",
        "    print(f\"Contact {name} added successfully.\")\n",
        "\n",
        "def view_contacts(contacts):\n",
        "    if not contacts:\n",
        "        print(\"No contacts found.\")\n",
        "        return\n",
        "\n",
        "    for idx, contact in enumerate(contacts, start=1):\n",
        "        print(f\"{idx}. Name: {contact['name']}, Phone: {contact['phone']}, Email: {contact['email']}\")\n",
        "\n",
        "def edit_contact(contacts):\n",
        "    view_contacts(contacts)\n",
        "    try:\n",
        "        index = int(input(\"Enter the number of the contact to edit: \")) - 1\n",
        "        if 0 <= index < len(contacts):\n",
        "            contacts[index]['name'] = input(\"Enter new name: \")\n",
        "            contacts[index]['phone'] = input(\"Enter new phone number: \")\n",
        "            contacts[index]['email'] = input(\"Enter new email address: \")\n",
        "            save_contacts(contacts)\n",
        "            print(\"Contact updated successfully.\")\n",
        "        else:\n",
        "            print(\"Invalid contact number.\")\n",
        "    except ValueError:\n",
        "        print(\"Invalid input. Please enter a number.\")\n",
        "\n",
        "def delete_contact(contacts):\n",
        "    view_contacts(contacts)\n",
        "    try:\n",
        "        index = int(input(\"Enter the number of the contact to delete: \")) - 1\n",
        "        if 0 <= index < len(contacts):\n",
        "            removed_contact = contacts.pop(index)\n",
        "            save_contacts(contacts)\n",
        "            print(f\"Contact {removed_contact['name']} deleted successfully.\")\n",
        "        else:\n",
        "            print(\"Invalid contact number.\")\n",
        "    except ValueError:\n",
        "        print(\"Invalid input. Please enter a number.\")\n",
        "\n",
        "def main():\n",
        "    contacts = load_contacts()\n",
        "\n",
        "    while True:\n",
        "        print(\"\\nContact Management System\")\n",
        "        print(\"1. Add Contact\")\n",
        "        print(\"2. View Contacts\")\n",
        "        print(\"3. Edit Contact\")\n",
        "        print(\"4. Delete Contact\")\n",
        "        print(\"5. Exit\")\n",
        "\n",
        "        choice = input(\"Choose an option: \")\n",
        "\n",
        "        if choice == '1':\n",
        "            add_contact(contacts)\n",
        "        elif choice == '2':\n",
        "            view_contacts(contacts)\n",
        "        elif choice == '3':\n",
        "            edit_contact(contacts)\n",
        "        elif choice == '4':\n",
        "            delete_contact(contacts)\n",
        "        elif choice == '5':\n",
        "            print(\"Exiting the program.\")\n",
        "            break\n",
        "        else:\n",
        "            print(\"Invalid choice. Please try again.\")\n",
        "\n",
        "if __name__ == \"__main__\":\n",
        "    main()\n",
        "\n",
        ""
      ],
      "metadata": {
        "id": "KT_WB2fAQu3H",
        "colab": {
          "base_uri": "https://localhost:8080/"
        },
        "outputId": "3789ee08-5021-46a5-b3f0-ac8aeb47c7b1"
      },
      "execution_count": 7,
      "outputs": [
        {
          "output_type": "stream",
          "name": "stdout",
          "text": [
            "\n",
            "Contact Management System\n",
            "1. Add Contact\n",
            "2. View Contacts\n",
            "3. Edit Contact\n",
            "4. Delete Contact\n",
            "5. Exit\n",
            "Choose an option: 1\n",
            "Enter name: jp\n",
            "Enter phone number: 9147862546\n",
            "Enter email address: xxxx@gmail.com\n",
            "Contact jp added successfully.\n",
            "\n",
            "Contact Management System\n",
            "1. Add Contact\n",
            "2. View Contacts\n",
            "3. Edit Contact\n",
            "4. Delete Contact\n",
            "5. Exit\n",
            "Choose an option: 2\n",
            "1. Name: jp, Phone: 9147862546, Email: xxxx@gmail.com\n",
            "\n",
            "Contact Management System\n",
            "1. Add Contact\n",
            "2. View Contacts\n",
            "3. Edit Contact\n",
            "4. Delete Contact\n",
            "5. Exit\n",
            "Choose an option: 5\n",
            "Exiting the program.\n"
          ]
        }
      ]
    }
  ]
}