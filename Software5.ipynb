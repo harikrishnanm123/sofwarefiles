{
  "nbformat": 4,
  "nbformat_minor": 0,
  "metadata": {
    "colab": {
      "provenance": [],
      "authorship_tag": "ABX9TyOxI8tG8kTf7ddn0Cya0uKo",
      "include_colab_link": true
    },
    "kernelspec": {
      "name": "python3",
      "display_name": "Python 3"
    },
    "language_info": {
      "name": "python"
    }
  },
  "cells": [
    {
      "cell_type": "markdown",
      "metadata": {
        "id": "view-in-github",
        "colab_type": "text"
      },
      "source": [
        "<a href=\"https://colab.research.google.com/github/harikrishnanm123/sofwarefiles/blob/main/Software5.ipynb\" target=\"_parent\"><img src=\"https://colab.research.google.com/assets/colab-badge.svg\" alt=\"Open In Colab\"/></a>"
      ]
    },
    {
      "cell_type": "markdown",
      "source": [],
      "metadata": {
        "id": "wj-MKbQUQuD3"
      }
    },
    {
      "cell_type": "code",
      "source": [
        "import requests\n",
        "from bs4 import BeautifulSoup\n",
        "import csv\n",
        "\n",
        "def scrape_amazon(url):\n",
        "    headers = {\n",
        "        \"User-Agent\": \"Mozilla/5.0 (Windows NT 10.0; Win64; x64) AppleWebKit/537.36 (KHTML, like Gecko) Chrome/91.0.4472.124 Safari/537.36\"\n",
        "    }\n",
        "\n",
        "    response = requests.get(url, headers=headers)\n",
        "\n",
        "    if response.status_code != 200:\n",
        "        print(\"Failed to retrieve the web page. Status code:\", response.status_code)\n",
        "        return []\n",
        "\n",
        "    soup = BeautifulSoup(response.content, 'html.parser')\n",
        "\n",
        "    products = []\n",
        "    for product in soup.find_all('div', {'data-component-type': 's-search-result'}):\n",
        "        name = product.h2.text.strip()\n",
        "        try:\n",
        "            price = product.find('span', 'a-price-whole').text.strip()\n",
        "        except AttributeError:\n",
        "            price = \"N/A\"\n",
        "        try:\n",
        "            rating = product.find('span', 'a-icon-alt').text.strip()\n",
        "        except AttributeError:\n",
        "            rating = \"N/A\"\n",
        "\n",
        "        products.append({'name': name, 'price': price, 'rating': rating})\n",
        "\n",
        "    return products\n",
        "\n",
        "def save_to_csv(products, filename):\n",
        "    with open(filename, mode='w', newline='', encoding='utf-8') as file:\n",
        "        writer = csv.DictWriter(file, fieldnames=['name', 'price', 'rating'])\n",
        "        writer.writeheader()\n",
        "        for product in products:\n",
        "            writer.writerow(product)\n",
        "\n",
        "def main():\n",
        "    url = \"https://www.amazon.com/s?k=best+sellers\"\n",
        "    products = scrape_amazon(url)\n",
        "    if products:\n",
        "        save_to_csv(products, 'amazon_products.csv')\n",
        "        print(f\"Saved {len(products)} products to 'amazon_products.csv'\")\n",
        "    else:\n",
        "        print(\"No products found or failed to scrape the website.\")\n",
        "\n",
        "if __name__ == \"__main__\":\n",
        "    main()\n"
      ],
      "metadata": {
        "id": "KT_WB2fAQu3H",
        "colab": {
          "base_uri": "https://localhost:8080/"
        },
        "outputId": "2929b271-bb08-4387-8edd-3b52ee2e5da3"
      },
      "execution_count": 11,
      "outputs": [
        {
          "output_type": "stream",
          "name": "stdout",
          "text": [
            "Failed to retrieve the web page. Status code: 503\n",
            "No products found or failed to scrape the website.\n"
          ]
        }
      ]
    }
  ]
}