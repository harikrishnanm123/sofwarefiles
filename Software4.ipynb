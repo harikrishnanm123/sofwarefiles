{
  "nbformat": 4,
  "nbformat_minor": 0,
  "metadata": {
    "colab": {
      "provenance": [],
      "authorship_tag": "ABX9TyMK4k0ry7tzywHSoFDgzajT",
      "include_colab_link": true
    },
    "kernelspec": {
      "name": "python3",
      "display_name": "Python 3"
    },
    "language_info": {
      "name": "python"
    }
  },
  "cells": [
    {
      "cell_type": "markdown",
      "metadata": {
        "id": "view-in-github",
        "colab_type": "text"
      },
      "source": [
        "<a href=\"https://colab.research.google.com/github/harikrishnanm123/sofwarefiles/blob/main/Software4.ipynb\" target=\"_parent\"><img src=\"https://colab.research.google.com/assets/colab-badge.svg\" alt=\"Open In Colab\"/></a>"
      ]
    },
    {
      "cell_type": "markdown",
      "source": [],
      "metadata": {
        "id": "wj-MKbQUQuD3"
      }
    },
    {
      "cell_type": "code",
      "source": [
        "def print_grid(grid):\n",
        "    for row in grid:\n",
        "        print(\" \".join(str(num) if num != 0 else \".\" for num in row))\n",
        "\n",
        "\n",
        "def is_valid(grid, row, col, num):\n",
        "    for x in range(9):\n",
        "        if grid[row][x] == num or grid[x][col] == num:\n",
        "            return False\n",
        "    start_row, start_col = 3 * (row // 3), 3 * (col // 3)\n",
        "    for i in range(3):\n",
        "        for j in range(3):\n",
        "            if grid[start_row + i][start_col + j] == num:\n",
        "                return False\n",
        "    return True\n",
        "\n",
        "\n",
        "def solve_sudoku(grid):\n",
        "    for row in range(9):\n",
        "        for col in range(9):\n",
        "            if grid[row][col] == 0:\n",
        "                for num in range(1, 10):\n",
        "                    if is_valid(grid, row, col, num):\n",
        "                        grid[row][col] = num\n",
        "                        if solve_sudoku(grid):\n",
        "                            return True\n",
        "                        grid[row][col] = 0\n",
        "                return False\n",
        "    return True\n",
        "\n",
        "\n",
        "# Example usage\n",
        "unsolved_grid = [\n",
        "    [5, 3, 0, 0, 7, 0, 0, 0, 0],\n",
        "    [6, 0, 0, 1, 9, 5, 0, 0, 0],\n",
        "    [0, 9, 8, 0, 0, 0, 0, 6, 0],\n",
        "    [8, 0, 0, 0, 6, 0, 0, 0, 3],\n",
        "    [4, 0, 0, 8, 0, 3, 0, 0, 1],\n",
        "    [7, 0, 0, 0, 2, 0, 0, 0, 6],\n",
        "    [0, 6, 0, 0, 0, 0, 2, 8, 0],\n",
        "    [0, 0, 0, 4, 1, 9, 0, 0, 5],\n",
        "    [0, 0, 0, 0, 8, 0, 0, 7, 9]\n",
        "]\n",
        "\n",
        "print(\"Unsolved Sudoku grid:\")\n",
        "print_grid(unsolved_grid)\n",
        "\n",
        "if solve_sudoku(unsolved_grid):\n",
        "    print(\"\\nSolved Sudoku grid:\")\n",
        "    print_grid(unsolved_grid)\n",
        "else:\n",
        "    print(\"No solution exists\")\n",
        "\n"
      ],
      "metadata": {
        "id": "KT_WB2fAQu3H",
        "colab": {
          "base_uri": "https://localhost:8080/"
        },
        "outputId": "a1a8a34c-8a8b-46a2-ac58-50d1bf8603f1"
      },
      "execution_count": 10,
      "outputs": [
        {
          "output_type": "stream",
          "name": "stdout",
          "text": [
            "Unsolved Sudoku grid:\n",
            "5 3 . . 7 . . . .\n",
            "6 . . 1 9 5 . . .\n",
            ". 9 8 . . . . 6 .\n",
            "8 . . . 6 . . . 3\n",
            "4 . . 8 . 3 . . 1\n",
            "7 . . . 2 . . . 6\n",
            ". 6 . . . . 2 8 .\n",
            ". . . 4 1 9 . . 5\n",
            ". . . . 8 . . 7 9\n",
            "\n",
            "Solved Sudoku grid:\n",
            "5 3 4 6 7 8 9 1 2\n",
            "6 7 2 1 9 5 3 4 8\n",
            "1 9 8 3 4 2 5 6 7\n",
            "8 5 9 7 6 1 4 2 3\n",
            "4 2 6 8 5 3 7 9 1\n",
            "7 1 3 9 2 4 8 5 6\n",
            "9 6 1 5 3 7 2 8 4\n",
            "2 8 7 4 1 9 6 3 5\n",
            "3 4 5 2 8 6 1 7 9\n"
          ]
        }
      ]
    }
  ]
}